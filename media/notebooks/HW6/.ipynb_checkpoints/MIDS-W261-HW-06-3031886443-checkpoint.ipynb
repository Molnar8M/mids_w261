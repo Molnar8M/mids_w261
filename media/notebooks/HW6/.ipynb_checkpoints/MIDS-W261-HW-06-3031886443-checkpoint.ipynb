{
 "cells": [
  {
   "cell_type": "markdown",
   "metadata": {
    "toc": "true"
   },
   "source": [
    " # Table of Contents\n",
    "<div class=\"toc\" style=\"margin-top: 1em;\"><ul class=\"toc-item\" id=\"toc-level0\"><li><span><a href=\"http://localhost:8889/notebooks/media/notebooks/HW6/MIDS-W261-HW-06-3031886443.ipynb#-MIDS---w261-Machine-Learning-At-Scale-\" data-toc-modified-id=\"-MIDS---w261-Machine-Learning-At-Scale--1\"><span class=\"toc-item-num\">1&nbsp;&nbsp;</span> MIDS - w261 Machine Learning At Scale </a></span><ul class=\"toc-item\"><li><span><a href=\"http://localhost:8889/notebooks/media/notebooks/HW6/MIDS-W261-HW-06-3031886443.ipynb#Assignment---HW6\" data-toc-modified-id=\"Assignment---HW6-1.1\"><span class=\"toc-item-num\">1.1&nbsp;&nbsp;</span>Assignment - HW6</a></span></li></ul></li><li><span><a href=\"http://localhost:8889/notebooks/media/notebooks/HW6/MIDS-W261-HW-06-3031886443.ipynb#Instructions\" data-toc-modified-id=\"Instructions-2\"><span class=\"toc-item-num\">2&nbsp;&nbsp;</span>Instructions</a></span><ul class=\"toc-item\"><li><span><a href=\"http://localhost:8889/notebooks/media/notebooks/HW6/MIDS-W261-HW-06-3031886443.ipynb#IMPORTANT\" data-toc-modified-id=\"IMPORTANT-2.1\"><span class=\"toc-item-num\">2.1&nbsp;&nbsp;</span>IMPORTANT</a></span><ul class=\"toc-item\"><li><span><a href=\"http://localhost:8889/notebooks/media/notebooks/HW6/MIDS-W261-HW-06-3031886443.ipynb#===-INSTRUCTIONS-for-SUBMISSIONS-===\" data-toc-modified-id=\"===-INSTRUCTIONS-for-SUBMISSIONS-===-2.1.1\"><span class=\"toc-item-num\">2.1.1&nbsp;&nbsp;</span>=== INSTRUCTIONS for SUBMISSIONS ===</a></span></li></ul></li></ul></li><li><span><a href=\"http://localhost:8889/notebooks/media/notebooks/HW6/MIDS-W261-HW-06-3031886443.ipynb#HW6.0.\" data-toc-modified-id=\"HW6.0.-3\"><span class=\"toc-item-num\">3&nbsp;&nbsp;</span>HW6.0.</a></span><ul class=\"toc-item\"><li><span><a href=\"http://localhost:8889/notebooks/media/notebooks/HW6/MIDS-W261-HW-06-3031886443.ipynb#HW6.1--Optimization-theory:\" data-toc-modified-id=\"HW6.1--Optimization-theory:-3.1\"><span class=\"toc-item-num\">3.1&nbsp;&nbsp;</span>HW6.1  Optimization theory:</a></span><ul class=\"toc-item\"><li><span><a href=\"http://localhost:8889/notebooks/media/notebooks/HW6/MIDS-W261-HW-06-3031886443.ipynb#HW6.1.A-(~1-hr)\" data-toc-modified-id=\"HW6.1.A-(~1-hr)-3.1.1\"><span class=\"toc-item-num\">3.1.1&nbsp;&nbsp;</span>HW6.1.A (~1 hr)</a></span></li><li><span><a href=\"http://localhost:8889/notebooks/media/notebooks/HW6/MIDS-W261-HW-06-3031886443.ipynb#HW6.1.B-(~4-hr)\" data-toc-modified-id=\"HW6.1.B-(~4-hr)-3.1.2\"><span class=\"toc-item-num\">3.1.2&nbsp;&nbsp;</span>HW6.1.B (~4 hr)</a></span></li><li><span><a href=\"http://localhost:8889/notebooks/media/notebooks/HW6/MIDS-W261-HW-06-3031886443.ipynb#HW6.1.C-(~3-hr)\" data-toc-modified-id=\"HW6.1.C-(~3-hr)-3.1.3\"><span class=\"toc-item-num\">3.1.3&nbsp;&nbsp;</span>HW6.1.C (~3 hr)</a></span></li></ul></li><li><span><a href=\"http://localhost:8889/notebooks/media/notebooks/HW6/MIDS-W261-HW-06-3031886443.ipynb#HW6.2-(~3-hr)\" data-toc-modified-id=\"HW6.2-(~3-hr)-3.2\"><span class=\"toc-item-num\">3.2&nbsp;&nbsp;</span>HW6.2 (~3 hr)</a></span></li><li><span><a href=\"http://localhost:8889/notebooks/media/notebooks/HW6/MIDS-W261-HW-06-3031886443.ipynb#HW6.3-Convex-optimization-(~2-hr)\" data-toc-modified-id=\"HW6.3-Convex-optimization-(~2-hr)-3.3\"><span class=\"toc-item-num\">3.3&nbsp;&nbsp;</span>HW6.3 Convex optimization (~2 hr)</a></span></li><li><span><a href=\"http://localhost:8889/notebooks/media/notebooks/HW6/MIDS-W261-HW-06-3031886443.ipynb#HW-6.4-(~3-hr)\" data-toc-modified-id=\"HW-6.4-(~3-hr)-3.4\"><span class=\"toc-item-num\">3.4&nbsp;&nbsp;</span>HW 6.4 (~3 hr)</a></span></li><li><span><a href=\"http://localhost:8889/notebooks/media/notebooks/HW6/MIDS-W261-HW-06-3031886443.ipynb#HW-6.5-(~8-hr)\" data-toc-modified-id=\"HW-6.5-(~8-hr)-3.5\"><span class=\"toc-item-num\">3.5&nbsp;&nbsp;</span>HW 6.5 (~8 hr)</a></span><ul class=\"toc-item\"><li><span><a href=\"http://localhost:8889/notebooks/media/notebooks/HW6/MIDS-W261-HW-06-3031886443.ipynb#HW6.5-Datapoint-Generation\" data-toc-modified-id=\"HW6.5-Datapoint-Generation-3.5.1\"><span class=\"toc-item-num\">3.5.1&nbsp;&nbsp;</span>HW6.5 Datapoint Generation</a></span></li><li><span><a href=\"http://localhost:8889/notebooks/media/notebooks/HW6/MIDS-W261-HW-06-3031886443.ipynb#HW6.5-WeightedOLS-Class\" data-toc-modified-id=\"HW6.5-WeightedOLS-Class-3.5.2\"><span class=\"toc-item-num\">3.5.2&nbsp;&nbsp;</span>HW6.5 WeightedOLS Class</a></span></li><li><span><a href=\"http://localhost:8889/notebooks/media/notebooks/HW6/MIDS-W261-HW-06-3031886443.ipynb#HW6.5-Driver\" data-toc-modified-id=\"HW6.5-Driver-3.5.3\"><span class=\"toc-item-num\">3.5.3&nbsp;&nbsp;</span>HW6.5 Driver</a></span></li><li><span><a href=\"http://localhost:8889/notebooks/media/notebooks/HW6/MIDS-W261-HW-06-3031886443.ipynb#HW6.5-Sampled-1%-and-SciKit-Learn\" data-toc-modified-id=\"HW6.5-Sampled-1%-and-SciKit-Learn-3.5.4\"><span class=\"toc-item-num\">3.5.4&nbsp;&nbsp;</span>HW6.5 Sampled 1% and SciKit-Learn</a></span></li><li><span><a href=\"http://localhost:8889/notebooks/media/notebooks/HW6/MIDS-W261-HW-06-3031886443.ipynb#HW6.5.1-(OPTIONAL)\" data-toc-modified-id=\"HW6.5.1-(OPTIONAL)-3.5.5\"><span class=\"toc-item-num\">3.5.5&nbsp;&nbsp;</span>HW6.5.1 (OPTIONAL)</a></span></li></ul></li><li><span><a href=\"http://localhost:8889/notebooks/media/notebooks/HW6/MIDS-W261-HW-06-3031886443.ipynb#HW6.6-Clean-up-notebook-for-GMM-via-EM-(OPTIONAL)\" data-toc-modified-id=\"HW6.6-Clean-up-notebook-for-GMM-via-EM-(OPTIONAL)-3.6\"><span class=\"toc-item-num\">3.6&nbsp;&nbsp;</span>HW6.6 Clean up notebook for GMM via EM (OPTIONAL)</a></span><ul class=\"toc-item\"><li><span><a href=\"http://localhost:8889/notebooks/media/notebooks/HW6/MIDS-W261-HW-06-3031886443.ipynb#Submission-Instructions\" data-toc-modified-id=\"Submission-Instructions-3.6.1\"><span class=\"toc-item-num\">3.6.1&nbsp;&nbsp;</span>Submission Instructions</a></span></li></ul></li><li><span><a href=\"http://localhost:8889/notebooks/media/notebooks/HW6/MIDS-W261-HW-06-3031886443.ipynb#HW6.7--Implement-Bernoulli-Mixture-Model-via-EM-(OPTIONAL)\" data-toc-modified-id=\"HW6.7--Implement-Bernoulli-Mixture-Model-via-EM-(OPTIONAL)-3.7\"><span class=\"toc-item-num\">3.7&nbsp;&nbsp;</span>HW6.7  Implement Bernoulli Mixture Model via EM (OPTIONAL)</a></span></li><li><span><a href=\"http://localhost:8889/notebooks/media/notebooks/HW6/MIDS-W261-HW-06-3031886443.ipynb#HW6.8-(OPTIONAL)-1-Million-songs\" data-toc-modified-id=\"HW6.8-(OPTIONAL)-1-Million-songs-3.8\"><span class=\"toc-item-num\">3.8&nbsp;&nbsp;</span>HW6.8 (OPTIONAL) 1 Million songs</a></span></li></ul></li></ul></div>"
   ]
  },
  {
   "cell_type": "markdown",
   "metadata": {},
   "source": [
    "<h1> MIDS - w261 Machine Learning At Scale </h1>\n",
    "__Course Lead:__ Dr James G. Shanahan (__email__ Jimi via  James.Shanahan _AT_ gmail.com)\n",
    "\n",
    "<h2>Assignment - HW6</h2>\n",
    "\n",
    "\n",
    "---\n",
    "__Name:__  *Jennifer Casper*   \n",
    "__Class:__ MIDS w261 (Section *Fall 2017 Group 2*)     \n",
    "__Email:__  *jenncasper*@berkeley.edu\n",
    "__StudentId__  3031886443    __End of StudentId__     \n",
    "__Week:__   6\n",
    "\n",
    "__NOTE:__ please replace `1234567` with your student id above      \n",
    "__Due Time:__ HW is due the Tuesday of the following week by 8AM (West coast time). \n",
    "\n",
    "# Instructions\n",
    "\n",
    "MIDS UC Berkeley, Machine Learning at Scale   \n",
    "DATSCIW261 ASSIGNMENT #6\n",
    "\n",
    "Version 2017-23-2 \n",
    "\n",
    "\n",
    "## IMPORTANT\n",
    "\n",
    "This homework can be completed locally on your computer \n",
    "\n",
    "### === INSTRUCTIONS for SUBMISSIONS ===   \n",
    "Follow the instructions for submissions carefully.\n",
    "\n",
    "Each student has a `HW-<user>` repository for all assignments.   \n",
    "\n",
    "Push the following to your HW github repo into the master branch:\n",
    "* Your local HW6 directory. Your repo file structure should look like this:\n",
    "\n",
    "```\n",
    "HW-<user>\n",
    "    --HW3\n",
    "       |__MIDS-W261-HW-03-<Student_id>.ipynb\n",
    "       |__MIDS-W261-HW-03-<Student_id>.pdf\n",
    "       |__some other hw3 file\n",
    "    --HW4\n",
    "       |__MIDS-W261-HW-04-<Student_id>.ipynb\n",
    "       |__MIDS-W261-HW-04-<Student_id>.pdf\n",
    "       |__some other hw4 file\n",
    "    etc..\n",
    "```    "
   ]
  },
  {
   "cell_type": "markdown",
   "metadata": {},
   "source": [
    "# HW6.0. \n",
    "- In mathematics, computer science, economics, or management science what is mathematical optimization?     \n",
    "- Give an example of a optimization problem that you have worked with directly or that your organization has worked on.    \n",
    "- Please describe the objective function and the decision variables.    \n",
    "- Was the project successful (deployed in the real world)? Describe."
   ]
  },
  {
   "cell_type": "code",
   "execution_count": null,
   "metadata": {
    "collapsed": true
   },
   "outputs": [],
   "source": [
    "# START STUDENT SOLUTION HW6.0"
   ]
  },
  {
   "cell_type": "markdown",
   "metadata": {},
   "source": [
    "According to the async material, \"mathematical optimization is the selection of a best element (with regard to some criteria) from some set of available alternatives\". To me, I think of this as finding the optimum outcome given a set of criteria.\n",
    "\n",
    "On a day to day basis I travel between home and work. There numerous options to get between the two locations. Depending on the time and day of the year, there is an optimum path to minimize time spent in traffic. Perhaps this could be mapped as an optimization problem. The objective function, in this case, would be to minimize time spent in traffic for the sanity of the driver. There are a finite number of decision variables that affect the traffic (ignoring random accidents) - time of day and day of year. This is an ongoing project - perhaps one I need to actually map out given enough data is collected over time."
   ]
  },
  {
   "cell_type": "code",
   "execution_count": 5,
   "metadata": {
    "collapsed": true
   },
   "outputs": [],
   "source": [
    "# END STUDENT SOLUTION HW6.0"
   ]
  },
  {
   "cell_type": "markdown",
   "metadata": {},
   "source": [
    "## HW6.1  Optimization theory: \n",
    "\n",
    "### HW6.1.A (~1 hr)\n",
    "- For unconstrained univariate optimization what are the first order  Necessary Conditions for Optimality (FOC)?  \n",
    "- What are the second order optimality conditions (SOC)? \n",
    "- Give a mathematical defintion. "
   ]
  },
  {
   "cell_type": "code",
   "execution_count": null,
   "metadata": {
    "collapsed": true
   },
   "outputs": [],
   "source": [
    "# START STUDENT SOLUTION HW6.1.A"
   ]
  },
  {
   "cell_type": "markdown",
   "metadata": {},
   "source": [
    "The FOC for a function f(x) is the first derivative which identifies the extreme points such that:\n",
    "- f’(x=x*) =0\n",
    "\n",
    "The SOC for a function f(x) is the second derivative which identifies whether the extreme point is a maximum or minimum:\n",
    "- f’’(x=x*) < 0 then maximum\n",
    "- f’’(x=x*) > 0 then minimum"
   ]
  },
  {
   "cell_type": "code",
   "execution_count": 6,
   "metadata": {
    "collapsed": true
   },
   "outputs": [],
   "source": [
    "# END STUDENT SOLUTION HW6.1.A"
   ]
  },
  {
   "cell_type": "markdown",
   "metadata": {},
   "source": [
    "### HW6.1.B (~4 hr)\n",
    "In python, plot the univartiate function \n",
    "$$X^3 -12x^2-6 \\ defined \\ over \\ [-6, 6]$$ \n",
    "\n",
    "Also plot its corresponding first and second derivative functions. Eyeballing these graphs, identify candidate optimal points and then classify them as local minimums or maximums. Highlight and label these points in your graphs. Justify your responses using the FOC and SOC."
   ]
  },
  {
   "cell_type": "code",
   "execution_count": 83,
   "metadata": {},
   "outputs": [
    {
     "data": {
      "image/png": "[encoded data removed]",
      "text/plain": [
       "<matplotlib.figure.Figure at 0x7f1f867763d0>"
      ]
     },
     "metadata": {},
     "output_type": "display_data"
    },
    {
     "data": {
      "image/png": "[encoded data removed]",
      "text/plain": [
       "<matplotlib.figure.Figure at 0x7f1f8633a710>"
      ]
     },
     "metadata": {},
     "output_type": "display_data"
    },
    {
     "data": {
      "image/png": "[encoded data removed]",
      "text/plain": [
       "<matplotlib.figure.Figure at 0x7f1f86316550>"
      ]
     },
     "metadata": {},
     "output_type": "display_data"
    }
   ],
   "source": [
    "# START STUDENT PLOTS HW6.1.B\n",
    "\n",
    "import pylab\n",
    "import numpy as np\n",
    "from sympy import *\n",
    "from sympy.abc import x\n",
    "import operator\n",
    "\n",
    "# set up the data\n",
    "data = np.linspace(-6, 6, 100)\n",
    "\n",
    "# set up the univariate function and the first and second derivative functions\n",
    "expr = x*x*x - 12*x*x - 6\n",
    "f = lambdify(x, expr)\n",
    "expr1 = diff(expr, x, 1)\n",
    "f1 = lambdify(x, expr1)\n",
    "expr2 = diff(expr, x, 2)\n",
    "f2 = lambdify(x, expr2)\n",
    "\n",
    "# outputs to plot\n",
    "y = f(data)\n",
    "y1 = f1(data)\n",
    "y2 = f2(data)\n",
    "\n",
    "# max value for univariate function\n",
    "max_ind, max_value = max(enumerate(y), key=operator.itemgetter(1))\n",
    "max_index = data[max_ind]\n",
    "pt_label = '(%.2f, %.2f)' % (max_index, max_value)\n",
    "\n",
    "# find extreme points using 1st derivative function\n",
    "ex_x = solve(expr1, x)\n",
    "root_x = [elem for elem in ex_x if elem <= 6 and elem >= -6][0] \n",
    "root_y = f1(root_x)\n",
    "root_pt_label = '(%.2f, %.2f)' % (root_x, root_y)\n",
    "\n",
    "# find the rate of change of the gradient using the 2nd derivative function\n",
    "change_x = root_x\n",
    "change_y = f2(change_x)\n",
    "change_pt_label = '(%.2f, %.2f)' % (change_x, change_y)\n",
    "\n",
    "# univariate function\n",
    "pylab.title(\"Univariate Function with Max Value\")\n",
    "pylab.xlabel(\"linspace[-6,6,100]\")\n",
    "pylab.ylabel(expr)\n",
    "pylab.plot(data, y, ':b')\n",
    "pylab.plot(max_index, max_value, 'ro')\n",
    "pylab.annotate(pt_label, xy = (max_index, max_value), xytext = (0.5, 0))\n",
    "pylab.show()\n",
    "\n",
    "# 1st Derivative\n",
    "pylab.title(\"1st Derivative Function with Root Value\")\n",
    "pylab.xlabel(\"linspace[-6,6,100]\")\n",
    "pylab.ylabel(expr1)\n",
    "pylab.plot(data, y1, ':b')\n",
    "pylab.plot(root_x, root_y, 'ro')\n",
    "pylab.annotate(root_pt_label, xy = (root_x, root_y), xytext = (0.5, 0))\n",
    "pylab.show()\n",
    "\n",
    "# 2nd Derivative\n",
    "pylab.title(\"2nd Derivative Function with Change Rate Value\")\n",
    "pylab.xlabel(\"linspace[-6,6,100]\")\n",
    "pylab.ylabel(expr2)\n",
    "pylab.plot(data, y2, ':b')\n",
    "pylab.plot(change_x, change_y, 'ro')\n",
    "pylab.annotate(change_pt_label, xy = (change_x, change_y), xytext = (0.5, 0))\n",
    "pylab.show()\n",
    "\n",
    "# END STUDENT PLOTS HW6.1.B"
   ]
  },
  {
   "cell_type": "markdown",
   "metadata": {},
   "source": [
    "**Justify your responses using the FOC and SOC.**\n",
    "\n",
    "The max value for the univariate function is -6.04 with a x of 0.06. The FOC, f1, reveals the extreme point, given the [-6, 6] limits, has a x value of 0. The rate of change for the gradient of x = 0 is -24.00, as determined by using the SOC, f2. Being -24.00 is less than 0, **the root is a maximum extreme point**."
   ]
  },
  {
   "cell_type": "markdown",
   "metadata": {},
   "source": [
    "### HW6.1.C (~3 hr)\n",
    "- For unconstrained multi-variate optimization what are the first order  Necessary Conditions for Optimality (FOC)?  \n",
    "- What are the second order optimality conditions (SOC)? \n",
    "- Give a mathematical defintion. \n",
    "- What is the Hessian matrix in this context?"
   ]
  },
  {
   "cell_type": "code",
   "execution_count": null,
   "metadata": {
    "collapsed": true
   },
   "outputs": [],
   "source": [
    "# START STUDENT SOLUTION HW6.1.C"
   ]
  },
  {
   "cell_type": "markdown",
   "metadata": {},
   "source": [
    "I am referencing https://sites.ualberta.ca/~aksikas/nlpm.pdf as this source made more sense to me.\n",
    "\n",
    "Multivariate optimization means optimization of a scalar function of a several variables:\n",
    "- y = P(x)\n",
    "\n",
    "and has the general form:\n",
    "- $ min{\\scriptsize x} P(x)$\n",
    "\n",
    "where P(x) is a nonlinear scalar-valued function of the vector variable x.\n",
    "\n",
    "For a twice continuously differentiable scalar function P(x), a point x* is an optimum if:\n",
    "- $\\nabla {\\scriptsize x} P|{\\scriptsize x^*} = 0$ (FOC)\n",
    "\n",
    "and:\n",
    "- $\\nabla^2 {\\scriptsize x} P|{\\scriptsize x^*}$ is positive definite (a minimum)\n",
    "- $\\nabla^2 {\\scriptsize x} P|{\\scriptsize x^*}$ is negative definite (a maximum)\n",
    "\n",
    "The Hessian matrix is a square matrix of second-order partial derivatives of a scalar-valued function, or scalar field - according to the class slides. The Hessian describes curvature. In the case above, the curvature is described by the second derivative 6*(x - 4)."
   ]
  },
  {
   "cell_type": "code",
   "execution_count": 8,
   "metadata": {
    "collapsed": true
   },
   "outputs": [],
   "source": [
    "# END STUDENT SOLUTION HW6.1.C"
   ]
  },
  {
   "cell_type": "markdown",
   "metadata": {},
   "source": [
    "## HW6.2 (~3 hr)\n",
    "Taking $x=1$ as the first approximation(xt1) of a root of $X^3 + 2x -4 = 0$, use the Newton-Raphson method to calculate the second approximation (denoted as xt2) of this root.     \n",
    "(Hint the solution is $xt2=1.2$)"
   ]
  },
  {
   "cell_type": "markdown",
   "metadata": {},
   "source": [
    "Newton-Raphson is the method of finding the roots or optimum of the gradient function:\n",
    "1. Initial guess - x = 1\n",
    "2. Approximate f(x) by tangent at ($x^0, f(x^0)$) for the first iteration\n",
    "3. Find where $f{\\tiny Tangent_x0}(x) = 0$ or use $x^{i+1} = x^i - \\left[\\frac {df}{dx}(x^i)\\right]^{-1}f(x^i)$\n",
    "4. Repeat until convergence\n",
    "\n",
    "\n",
    "\n",
    "\n"
   ]
  },
  {
   "cell_type": "code",
   "execution_count": 120,
   "metadata": {},
   "outputs": [
    {
     "name": "stdout",
     "output_type": "stream",
     "text": [
      "xt2 = 1.20 (tangent line calculation)\n",
      "xt2 = 1.20 (derivative calculation)\n"
     ]
    }
   ],
   "source": [
    "# START STUDENT SOLUTION HW6.2\n",
    "\n",
    "import pylab\n",
    "import numpy as np\n",
    "from sympy import *\n",
    "from sympy.abc import x\n",
    "import operator\n",
    "\n",
    "# Set up the function\n",
    "expr = x*x*x + 2*x - 4\n",
    "f = lambdify(x, expr)\n",
    "\n",
    "# Get the initial guess point for the objective function\n",
    "xt1 = 1\n",
    "y = f(xt1)\n",
    "#print xt1,y\n",
    "\n",
    "# Find the slope of the tangent at initial X,y guess point\n",
    "expr1 = diff(expr, x, 1)\n",
    "f1 = lambdify(x, expr1)\n",
    "tan_slope = f1(xt1)\n",
    "#print expr1, tan_slope\n",
    "\n",
    "# Find where the tangent line crosses the x-axis using the tangent slope and X,y guess point\n",
    "b = y - tan_slope*xt1\n",
    "expr2 = tan_slope*x + b\n",
    "ex_x = solve(expr2, x)\n",
    "xt2 = N(ex_x[0])\n",
    "print 'xt2 = %.2f (tangent line calculation)' % (xt2)\n",
    "\n",
    "# Use the derivative calculation version\n",
    "xt2 = xt1 - N(f(xt1))/N(f1(xt1))\n",
    "print 'xt2 = %.2f (derivative calculation)' % (xt2)\n",
    "\n",
    "# END STUDENT SOLUTION HW6.2"
   ]
  },
  {
   "cell_type": "markdown",
   "metadata": {},
   "source": [
    "## HW6.3 Convex optimization (~2 hr)\n",
    "- What makes an optimization problem convex? \n",
    "- What are the first order  Necessary Conditions for Optimality in convex optimization?\n",
    "- What are the second order optimality conditions for convex optimization? \n",
    "- Are both necessary to determine the maximum or minimum of candidate optimal solutions?"
   ]
  },
  {
   "cell_type": "code",
   "execution_count": null,
   "metadata": {
    "collapsed": true
   },
   "outputs": [],
   "source": [
    "# START STUDENT SOLUTION HW6.3"
   ]
  },
  {
   "cell_type": "markdown",
   "metadata": {},
   "source": [
    "According to https://en.wikipedia.org/wiki/Convex_optimization, convex minimization is a subfield of optimization that studies the problem of minimizing convex functions over convex sets. The convexity makes optimization easier than the general case since local minimum must be a global minimum, and first-order conditions are sufficient conditions for optimality.\n",
    "\n",
    "According to the sync slides, the following must be met in order for an optimization problem to be convex:\n",
    "1. the objective function is convex\n",
    "2. the inequality constraints are convex\n",
    "3. the equality constraints are affine\n",
    "\n",
    "According to the sync slides, the first order condition of convexity infers there is a direction of descent everywhere around a minimum - f(y) >= f(x) + NablaF(x)(y-x). The NablaF(x) must equal 0 at the minimum, otherwise the FOC is violated.\n",
    "\n",
    "The local minimum is also the global minimum for convex optimization problems - second order optimality conditions are not needed."
   ]
  },
  {
   "cell_type": "code",
   "execution_count": 9,
   "metadata": {
    "collapsed": true
   },
   "outputs": [],
   "source": [
    "# END STUDENT SOLUTION HW6.3"
   ]
  },
  {
   "cell_type": "markdown",
   "metadata": {},
   "source": [
    "- Fill in the BLANKS here:   \n",
    "Convex minimization, a subfield of optimization, studies the problem of minimizing **convex** functions over **convex** sets. The **convex** property can make optimization in some sense \"easier\" than the general case - for example, any local minimum must be a global minimum."
   ]
  },
  {
   "cell_type": "markdown",
   "metadata": {},
   "source": [
    "## HW 6.4 (~3 hr)\n",
    "\n",
    "The learning objective function for weighted ordinary least squares (WOLS) (aka weight linear regression) is defined as follows:\n",
    "\n",
    "$$0.5* \\sum_{i=1}^n (weight_i * (W * X_i - y_i)^2)$$\n",
    "\n",
    "Where training set consists of input variables X ( in vector form) and a target variable y, and W is the vector of coefficients for the linear regression model.\n",
    "\n",
    "Derive the gradient for this weighted OLS by hand; showing each step and also explaining each step."
   ]
  },
  {
   "cell_type": "markdown",
   "metadata": {},
   "source": [
    "To derive the gradient relative to the vector of coefficients (W), we need to calculate the derivative of the objective (or cost) function.\n",
    "1. Expand the objective function\n",
    "$$0.5* \\sum_{i=1}^n weight_i((WX_i)^2 - 2WX_iy_i + y_i^2)$$\n",
    "2. Calculate the derivative of the expanded objective function\n",
    "$$0.5* \\sum_{i=1}^n weight_i(2WX_i^2 - 2X_iy_i)$$\n",
    "3. Simplify the first derivative\n",
    "$$0.5* \\sum_{i=1}^n 2weight_iX_i(WX_i - y_i)$$\n",
    "$$\\sum_{i=1}^n weight_iX_i(WX_i - y_i)$$\n",
    "\n",
    "Reference for deriving the gradient using matrices: https://stats.stackexchange.com/questions/237235/how-do-you-derive-the-gradient-for-weighted-least-squares"
   ]
  },
  {
   "cell_type": "markdown",
   "metadata": {},
   "source": [
    "## HW 6.5 (~8 hr)\n",
    "Write a MapReduce job in MRJob to do the training at scale of a weighted OLS model using gradient descent. <br>\n",
    "Generate one million datapoints just like in the following notebook:  http://nbviewer.ipython.org/urls/dl.dropbox.com/s/kritdm3mo1daolj/MrJobLinearRegressionGD.ipynb\n",
    "\n",
    "Weight each example as follows: \n",
    "\n",
    "$$weight(x)= abs(1/x)$$\n",
    "\n",
    "Sample 1% of the data in MapReduce and use the sampled dataset to train a (weighted if available in SciKit-Learn) linear regression model locally using  SciKit-Learn (http://scikit-learn.org/stable/modules/generated/sklearn.linear_model.LinearRegression.html)\n",
    "\n",
    "Plot the resulting weighted linear regression model versus the original model that you used to generate the data. Comment on your findings."
   ]
  },
  {
   "cell_type": "markdown",
   "metadata": {},
   "source": [
    "### HW6.5 Datapoint Generation"
   ]
  },
  {
   "cell_type": "code",
   "execution_count": 128,
   "metadata": {},
   "outputs": [],
   "source": [
    "# generate the one million datapoints\n",
    "%matplotlib inline\n",
    "import numpy as np\n",
    "import pylab \n",
    "\n",
    "size = 1000000\n",
    "x = np.random.uniform(-4, 4, size)\n",
    "y = x * 1.0 - 4 + np.random.normal(0,0.5,size)\n",
    "data = zip(y,x)\n",
    "np.savetxt('hw65.csv',data,delimiter = \",\")"
   ]
  },
  {
   "cell_type": "code",
   "execution_count": 129,
   "metadata": {},
   "outputs": [
    {
     "data": {
      "image/png": "[encoded data removed]",
      "text/plain": [
       "<matplotlib.figure.Figure at 0x7f1f8627fe50>"
      ]
     },
     "metadata": {},
     "output_type": "display_data"
    }
   ],
   "source": [
    "# plot for sanity check\n",
    "pylab.plot(x, y,'*')\n",
    "pylab.show()"
   ]
  },
  {
   "cell_type": "markdown",
   "metadata": {},
   "source": [
    "### HW6.5 WeightedOLS Class"
   ]
  },
  {
   "cell_type": "code",
   "execution_count": 138,
   "metadata": {},
   "outputs": [
    {
     "name": "stdout",
     "output_type": "stream",
     "text": [
      "Overwriting weightedOLS.py\n"
     ]
    }
   ],
   "source": [
    "%%writefile weightedOLS.py\n",
    "#!/usr/bin/python\n",
    "from mrjob.job import MRJob\n",
    "from mrjob.step import MRStep\n",
    "\n",
    "# Purpose: calculate partial gradient for each example     \n",
    "class MrJobWeightedOLS(MRJob):\n",
    "    # run before the mapper processes any input\n",
    "    def read_weightsfile(self):\n",
    "        # Read weights file\n",
    "        with open('weights.txt', 'r') as f:\n",
    "            self.weights = [float(v) for v in f.readline().split(',')]\n",
    "        # Initialze gradient for this iteration\n",
    "        self.partial_Gradient = [0]*len(self.weights)\n",
    "        self.partial_count = 0\n",
    "    \n",
    "    # Calculate partial gradient for each example \n",
    "    def partial_gradient(self, _, line):\n",
    "        D = (map(float,line.split(',')))\n",
    "        \n",
    "        # y_hat is the predicted value given current weights\n",
    "        # intercept + slope * x_i\n",
    "        y_hat = self.weights[0] + self.weights[1] * D[1]\n",
    "        \n",
    "        # set up the weight\n",
    "        weight_i = abs(1/float(D[1]))\n",
    "        \n",
    "        # Update parial gradient vector with gradient form current example\n",
    "        self.partial_Gradient =  [self.partial_Gradient[0] + (weight_i * (D[0] - y_hat)), \n",
    "                                  self.partial_Gradient[1] + (weight_i * ((D[0] - y_hat) * D[1]))]\n",
    "        self.partial_count = self.partial_count + 1\n",
    "        #yield None, (D[0]-y_hat,(D[0]-y_hat)*D[1],1)\n",
    "    \n",
    "    # Finally emit in-memory partial gradient and partial count\n",
    "    def partial_gradient_emit(self):\n",
    "        yield None, (self.partial_Gradient,self.partial_count)\n",
    "        \n",
    "    # Accumulate partial gradient from mapper and emit total gradient \n",
    "    # Output: key = None, Value = gradient vector\n",
    "    def gradient_accumulater(self, _, partial_Gradient_Record): \n",
    "        total_gradient = [0]*2\n",
    "        total_count = 0\n",
    "        for partial_Gradient,partial_count in partial_Gradient_Record:\n",
    "            total_count = total_count + partial_count\n",
    "            total_gradient[0] = total_gradient[0] + partial_Gradient[0]\n",
    "            total_gradient[1] = total_gradient[1] + partial_Gradient[1]\n",
    "        yield None, [v/total_count for v in total_gradient]\n",
    "    \n",
    "    def steps(self):\n",
    "        return [self.mr(mapper_init=self.read_weightsfile,\n",
    "                       mapper=self.partial_gradient,\n",
    "                       mapper_final=self.partial_gradient_emit,\n",
    "                       reducer=self.gradient_accumulater\n",
    "                       )\n",
    "               ] \n",
    "    \n",
    "if __name__ == '__main__':\n",
    "    MrJobWeightedOLS.run()"
   ]
  },
  {
   "cell_type": "markdown",
   "metadata": {},
   "source": [
    "### HW6.5 Driver"
   ]
  },
  {
   "cell_type": "code",
   "execution_count": 207,
   "metadata": {},
   "outputs": [
    {
     "name": "stdout",
     "output_type": "stream",
     "text": [
      "Overwriting hw65_driver.py\n"
     ]
    }
   ],
   "source": [
    "%%writefile hw65_driver.py\n",
    "#!/usr/bin/python\n",
    "from numpy import random,array\n",
    "import sys, time\n",
    "from weightedOLS import MrJobWeightedOLS\n",
    "\n",
    "start = time.time()\n",
    "\n",
    "learning_rate = 0.005\n",
    "stop_criteria = 0.0000005\n",
    "\n",
    "# Generate random values as inital weights\n",
    "weights = array([random.uniform(-3,3),random.uniform(-3,3)])\n",
    "# Write the weights to the files\n",
    "with open('weights.txt', 'w+') as f:\n",
    "    f.writelines(','.join(str(j) for j in weights))\n",
    "\n",
    "# create a mrjob instance for batch gradient descent update over all data\n",
    "mr_job = MrJobWeightedOLS(args=['hw65.csv','--file=weights.txt'])\n",
    "\n",
    "# Update centroids iteratively\n",
    "i = 0\n",
    "while(1):\n",
    "    # print and output the weights\n",
    "    iter_line = 'iteration = %s\\tweights = %s' % (str(i), weights)\n",
    "    print iter_line\n",
    "    \n",
    "    # Save weights from previous iteration\n",
    "    weights_old = weights\n",
    "    \n",
    "    with mr_job.make_runner() as runner: \n",
    "        runner.run()\n",
    "        # stream_output: get access of the output \n",
    "        for line in runner.stream_output():\n",
    "            # value is the gradient value\n",
    "            key,value =  mr_job.parse_output_line(line)\n",
    "            # Update weights\n",
    "            weights = weights + learning_rate*array(value)\n",
    "    i = i + 1\n",
    "    \n",
    "    # Write the updated weights to file \n",
    "    with open('weights.txt', 'w+') as f:\n",
    "        f.writelines(','.join(str(j) for j in weights))\n",
    "        \n",
    "    # Stop if weights get converged\n",
    "    if(sum((weights_old - weights)**2) < stop_criteria):\n",
    "        break\n",
    "\n",
    "final_weights = weights\n",
    "print \"\\nFinal weights: \", final_weights\n",
    "print '\\nTime to completion: %.2f min' % ((time.time() - start)/60)"
   ]
  },
  {
   "cell_type": "code",
   "execution_count": 208,
   "metadata": {},
   "outputs": [
    {
     "name": "stdout",
     "output_type": "stream",
     "text": [
      "iteration = 0\tweights = [ 0.98066491 -1.31791481]\n",
      "No handlers could be found for logger \"mrjob.job\"\n",
      "iteration = 1\tweights = [ 0.87486613 -1.29477314]\n",
      "iteration = 2\tweights = [ 0.77129358 -1.27186237]\n",
      "iteration = 3\tweights = [ 0.66990042 -1.24918021]\n",
      "iteration = 4\tweights = [ 0.57064078 -1.22672438]\n",
      "iteration = 5\tweights = [ 0.47346978 -1.20449261]\n",
      "iteration = 6\tweights = [ 0.37834346 -1.18248269]\n",
      "iteration = 7\tweights = [ 0.2852188 -1.1606924]\n",
      "iteration = 8\tweights = [ 0.19405368 -1.13911954]\n",
      "iteration = 9\tweights = [ 0.10480687 -1.11776196]\n",
      "iteration = 10\tweights = [ 0.01743799 -1.09661751]\n",
      "iteration = 11\tweights = [-0.06809247 -1.07568405]\n",
      "iteration = 12\tweights = [-0.15182318 -1.0549595 ]\n",
      "iteration = 13\tweights = [-0.23379203 -1.03444176]\n",
      "iteration = 14\tweights = [-0.31403609 -1.01412878]\n",
      "iteration = 15\tweights = [-0.39259165 -0.99401852]\n",
      "iteration = 16\tweights = [-0.46949424 -0.97410894]\n",
      "iteration = 17\tweights = [-0.54477864 -0.95439806]\n",
      "iteration = 18\tweights = [-0.6184789 -0.9348839]\n",
      "iteration = 19\tweights = [-0.69062836 -0.91556448]\n",
      "iteration = 20\tweights = [-0.76125966 -0.89643787]\n",
      "iteration = 21\tweights = [-0.83040472 -0.87750215]\n",
      "iteration = 22\tweights = [-0.89809484 -0.85875542]\n",
      "iteration = 23\tweights = [-0.96436062 -0.84019579]\n",
      "iteration = 24\tweights = [-1.02923204 -0.82182139]\n",
      "iteration = 25\tweights = [-1.09273844 -0.80363038]\n",
      "iteration = 26\tweights = [-1.15490854 -0.78562092]\n",
      "iteration = 27\tweights = [-1.21577045 -0.76779122]\n",
      "iteration = 28\tweights = [-1.27535172 -0.75013948]\n",
      "iteration = 29\tweights = [-1.33367928 -0.73266391]\n",
      "iteration = 30\tweights = [-1.39077951 -0.71536278]\n",
      "iteration = 31\tweights = [-1.44667824 -0.69823432]\n",
      "iteration = 32\tweights = [-1.50140076 -0.68127684]\n",
      "iteration = 33\tweights = [-1.55497181 -0.66448861]\n",
      "iteration = 34\tweights = [-1.60741563 -0.64786795]\n",
      "iteration = 35\tweights = [-1.65875593 -0.6314132 ]\n",
      "iteration = 36\tweights = [-1.70901593 -0.61512269]\n",
      "iteration = 37\tweights = [-1.75821837 -0.59899479]\n",
      "iteration = 38\tweights = [-1.8063855  -0.58302787]\n",
      "iteration = 39\tweights = [-1.8535391  -0.56722034]\n",
      "iteration = 40\tweights = [-1.8997005  -0.55157059]\n",
      "iteration = 41\tweights = [-1.94489059 -0.53607707]\n",
      "iteration = 42\tweights = [-1.98912979 -0.5207382 ]\n",
      "iteration = 43\tweights = [-2.03243811 -0.50555245]\n",
      "iteration = 44\tweights = [-2.07483516 -0.49051829]\n",
      "iteration = 45\tweights = [-2.11634009 -0.47563421]\n",
      "iteration = 46\tweights = [-2.15697169 -0.4608987 ]\n",
      "iteration = 47\tweights = [-2.19674832 -0.4463103 ]\n",
      "iteration = 48\tweights = [-2.23568799 -0.43186753]\n",
      "iteration = 49\tweights = [-2.27380829 -0.41756893]\n",
      "iteration = 50\tweights = [-2.31112648 -0.40341308]\n",
      "iteration = 51\tweights = [-2.34765943 -0.38939854]\n",
      "iteration = 52\tweights = [-2.38342366 -0.37552391]\n",
      "iteration = 53\tweights = [-2.41843535 -0.36178779]\n",
      "iteration = 54\tweights = [-2.45271034 -0.3481888 ]\n",
      "iteration = 55\tweights = [-2.48626412 -0.33472557]\n",
      "iteration = 56\tweights = [-2.51911188 -0.32139675]\n",
      "iteration = 57\tweights = [-2.55126847 -0.308201  ]\n",
      "iteration = 58\tweights = [-2.58274842 -0.29513698]\n",
      "iteration = 59\tweights = [-2.61356599 -0.28220339]\n",
      "iteration = 60\tweights = [-2.64373511 -0.26939892]\n",
      "iteration = 61\tweights = [-2.67326941 -0.25672229]\n",
      "iteration = 62\tweights = [-2.70218227 -0.24417221]\n",
      "iteration = 63\tweights = [-2.73048676 -0.23174744]\n",
      "iteration = 64\tweights = [-2.75819568 -0.21944671]\n",
      "iteration = 65\tweights = [-2.78532155 -0.20726878]\n",
      "iteration = 66\tweights = [-2.81187666 -0.19521245]\n",
      "iteration = 67\tweights = [-2.83787301 -0.18327648]\n",
      "iteration = 68\tweights = [-2.86332235 -0.17145968]\n",
      "iteration = 69\tweights = [-2.8882362  -0.15976086]\n",
      "iteration = 70\tweights = [-2.91262583 -0.14817885]\n",
      "iteration = 71\tweights = [-2.93650226 -0.13671247]\n",
      "iteration = 72\tweights = [-2.95987629 -0.12536058]\n",
      "iteration = 73\tweights = [-2.98275851 -0.11412203]\n",
      "iteration = 74\tweights = [-3.00515925 -0.10299569]\n",
      "iteration = 75\tweights = [-3.02708864 -0.09198044]\n",
      "iteration = 76\tweights = [-3.04855661 -0.08107517]\n",
      "iteration = 77\tweights = [-3.06957286 -0.07027879]\n",
      "iteration = 78\tweights = [-3.0901469  -0.05959021]\n",
      "iteration = 79\tweights = [-3.11028804 -0.04900835]\n",
      "iteration = 80\tweights = [-3.13000538 -0.03853214]\n",
      "iteration = 81\tweights = [-3.14930784 -0.02816054]\n",
      "iteration = 82\tweights = [-3.16820415 -0.0178925 ]\n",
      "iteration = 83\tweights = [-3.18670286 -0.00772698]\n",
      "iteration = 84\tweights = [ -3.20481233e+00   2.33702883e-03]\n",
      "iteration = 85\tweights = [-3.22254075  0.01230055]\n",
      "iteration = 86\tweights = [-3.23989615  0.02216459]\n",
      "iteration = 87\tweights = [-3.25688636  0.03193013]\n",
      "iteration = 88\tweights = [-3.27351909  0.04159817]\n",
      "iteration = 89\tweights = [-3.28980183  0.05116966]\n",
      "iteration = 90\tweights = [-3.30574198  0.06064558]\n",
      "iteration = 91\tweights = [-3.32134672  0.07002688]\n",
      "iteration = 92\tweights = [-3.33662312  0.07931451]\n",
      "iteration = 93\tweights = [-3.35157808  0.08850939]\n",
      "iteration = 94\tweights = [-3.36621838  0.09761246]\n",
      "iteration = 95\tweights = [-3.38055063  0.10662463]\n",
      "iteration = 96\tweights = [-3.39458131  0.1155468 ]\n",
      "iteration = 97\tweights = [-3.40831677  0.12437989]\n",
      "iteration = 98\tweights = [-3.42176322  0.13312477]\n",
      "iteration = 99\tweights = [-3.43492675  0.14178233]\n",
      "iteration = 100\tweights = [-3.4478133   0.15035343]\n",
      "iteration = 101\tweights = [-3.46042871  0.15883894]\n",
      "iteration = 102\tweights = [-3.47277867  0.16723972]\n",
      "iteration = 103\tweights = [-3.48486878  0.17555661]\n",
      "iteration = 104\tweights = [-3.49670451  0.18379045]\n",
      "iteration = 105\tweights = [-3.5082912   0.19194207]\n",
      "iteration = 106\tweights = [-3.51963409  0.20001228]\n",
      "iteration = 107\tweights = [-3.53073832  0.20800191]\n",
      "iteration = 108\tweights = [-3.54160891  0.21591175]\n",
      "iteration = 109\tweights = [-3.55225077  0.2237426 ]\n",
      "iteration = 110\tweights = [-3.56266872  0.23149525]\n",
      "iteration = 111\tweights = [-3.57286746  0.23917048]\n",
      "iteration = 112\tweights = [-3.58285162  0.24676906]\n",
      "iteration = 113\tweights = [-3.5926257   0.25429177]\n",
      "iteration = 114\tweights = [-3.60219413  0.26173935]\n",
      "iteration = 115\tweights = [-3.61156123  0.26911255]\n",
      "iteration = 116\tweights = [-3.62073124  0.27641212]\n",
      "iteration = 117\tweights = [-3.62970831  0.2836388 ]\n",
      "iteration = 118\tweights = [-3.63849649  0.29079331]\n",
      "iteration = 119\tweights = [-3.64709977  0.29787637]\n",
      "iteration = 120\tweights = [-3.65552202  0.30488869]\n",
      "iteration = 121\tweights = [-3.66376707  0.31183099]\n",
      "iteration = 122\tweights = [-3.67183864  0.31870395]\n",
      "iteration = 123\tweights = [-3.67974038  0.32550828]\n",
      "iteration = 124\tweights = [-3.68747586  0.33224465]\n",
      "iteration = 125\tweights = [-3.69504859  0.33891375]\n",
      "iteration = 126\tweights = [-3.70246198  0.34551625]\n",
      "iteration = 127\tweights = [-3.70971938  0.35205281]\n",
      "iteration = 128\tweights = [-3.71682409  0.35852409]\n",
      "iteration = 129\tweights = [-3.72377932  0.36493075]\n",
      "iteration = 130\tweights = [-3.7305882   0.37127342]\n",
      "iteration = 131\tweights = [-3.73725383  0.37755274]\n",
      "iteration = 132\tweights = [-3.7437792   0.38376936]\n",
      "iteration = 133\tweights = [-3.75016728  0.38992389]\n",
      "iteration = 134\tweights = [-3.75642096  0.39601696]\n",
      "iteration = 135\tweights = [-3.76254305  0.40204917]\n",
      "iteration = 136\tweights = [-3.76853634  0.40802114]\n",
      "iteration = 137\tweights = [-3.77440352  0.41393347]\n",
      "iteration = 138\tweights = [-3.78014726  0.41978675]\n",
      "iteration = 139\tweights = [-3.78577015  0.42558158]\n",
      "iteration = 140\tweights = [-3.79127474  0.43131853]\n",
      "iteration = 141\tweights = [-3.79666351  0.43699818]\n",
      "iteration = 142\tweights = [-3.8019389   0.44262111]\n",
      "iteration = 143\tweights = [-3.80710329  0.44818788]\n",
      "iteration = 144\tweights = [-3.81215903  0.45369906]\n",
      "iteration = 145\tweights = [-3.81710839  0.45915519]\n",
      "iteration = 146\tweights = [-3.82195362  0.46455684]\n",
      "iteration = 147\tweights = [-3.8266969   0.46990453]\n",
      "iteration = 148\tweights = [-3.83134039  0.47519882]\n",
      "iteration = 149\tweights = [-3.83588618  0.48044022]\n",
      "iteration = 150\tweights = [-3.84033633  0.48562928]\n",
      "iteration = 151\tweights = [-3.84469285  0.49076652]\n",
      "iteration = 152\tweights = [-3.84895771  0.49585245]\n",
      "iteration = 153\tweights = [-3.85313284  0.50088758]\n",
      "iteration = 154\tweights = [-3.85722012  0.50587242]\n",
      "iteration = 155\tweights = [-3.86122141  0.51080748]\n",
      "iteration = 156\tweights = [-3.86513851  0.51569324]\n",
      "iteration = 157\tweights = [-3.8689732   0.52053022]\n",
      "iteration = 158\tweights = [-3.87272721  0.52531888]\n"
     ]
    },
    {
     "name": "stdout",
     "output_type": "stream",
     "text": [
      "iteration = 159\tweights = [-3.87640224  0.53005971]\n",
      "iteration = 160\tweights = [-3.87999995  0.53475319]\n",
      "iteration = 161\tweights = [-3.88352196  0.5393998 ]\n",
      "iteration = 162\tweights = [-3.88696988  0.544     ]\n",
      "iteration = 163\tweights = [-3.89034525  0.54855425]\n",
      "iteration = 164\tweights = [-3.89364961  0.55306302]\n",
      "iteration = 165\tweights = [-3.89688444  0.55752675]\n",
      "iteration = 166\tweights = [-3.90005122  0.5619459 ]\n",
      "iteration = 167\tweights = [-3.90315137  0.56632091]\n",
      "iteration = 168\tweights = [-3.90618629  0.57065223]\n",
      "iteration = 169\tweights = [-3.90915737  0.57494028]\n",
      "iteration = 170\tweights = [-3.91206593  0.57918551]\n",
      "iteration = 171\tweights = [-3.91491331  0.58338834]\n",
      "iteration = 172\tweights = [-3.91770077  0.58754918]\n",
      "iteration = 173\tweights = [-3.9204296   0.59166848]\n",
      "iteration = 174\tweights = [-3.92310101  0.59574662]\n",
      "iteration = 175\tweights = [-3.92571621  0.59978404]\n",
      "iteration = 176\tweights = [-3.9282764   0.60378113]\n",
      "iteration = 177\tweights = [-3.93078272  0.60773829]\n",
      "iteration = 178\tweights = [-3.93323632  0.61165594]\n",
      "iteration = 179\tweights = [-3.93563829  0.61553445]\n",
      "iteration = 180\tweights = [-3.93798973  0.61937422]\n",
      "iteration = 181\tweights = [-3.9402917   0.62317564]\n",
      "iteration = 182\tweights = [-3.94254524  0.6269391 ]\n",
      "iteration = 183\tweights = [-3.94475137  0.63066496]\n",
      "iteration = 184\tweights = [-3.94691108  0.63435361]\n",
      "iteration = 185\tweights = [-3.94902536  0.63800542]\n",
      "iteration = 186\tweights = [-3.95109515  0.64162075]\n",
      "iteration = 187\tweights = [-3.95312141  0.64519997]\n",
      "iteration = 188\tweights = [-3.95510503  0.64874344]\n",
      "iteration = 189\tweights = [-3.95704692  0.65225152]\n",
      "iteration = 190\tweights = [-3.95894796  0.65572456]\n",
      "iteration = 191\tweights = [-3.960809   0.6591629]\n",
      "iteration = 192\tweights = [-3.96263089  0.66256691]\n",
      "iteration = 193\tweights = [-3.96441446  0.66593692]\n",
      "iteration = 194\tweights = [-3.96616049  0.66927326]\n",
      "iteration = 195\tweights = [-3.9678698   0.67257628]\n",
      "iteration = 196\tweights = [-3.96954315  0.67584631]\n",
      "iteration = 197\tweights = [-3.97118129  0.67908368]\n",
      "iteration = 198\tweights = [-3.97278497  0.68228871]\n",
      "iteration = 199\tweights = [-3.97435492  0.68546173]\n",
      "iteration = 200\tweights = [-3.97589183  0.68860305]\n",
      "iteration = 201\tweights = [-3.97739641  0.691713  ]\n",
      "iteration = 202\tweights = [-3.97886935  0.69479189]\n",
      "iteration = 203\tweights = [-3.98031129  0.69784002]\n",
      "iteration = 204\tweights = [-3.9817229   0.70085771]\n",
      "iteration = 205\tweights = [-3.98310481  0.70384525]\n",
      "iteration = 206\tweights = [-3.98445765  0.70680295]\n",
      "iteration = 207\tweights = [-3.98578203  0.70973111]\n",
      "iteration = 208\tweights = [-3.98707855  0.71263002]\n",
      "iteration = 209\tweights = [-3.9883478   0.71549998]\n",
      "iteration = 210\tweights = [-3.98959034  0.71834127]\n",
      "iteration = 211\tweights = [-3.99080675  0.72115418]\n",
      "iteration = 212\tweights = [-3.99199756  0.72393899]\n",
      "iteration = 213\tweights = [-3.99316333  0.72669599]\n",
      "iteration = 214\tweights = [-3.99430457  0.72942545]\n",
      "iteration = 215\tweights = [-3.9954218   0.73212764]\n",
      "iteration = 216\tweights = [-3.99651553  0.73480285]\n",
      "iteration = 217\tweights = [-3.99758625  0.73745133]\n",
      "iteration = 218\tweights = [-3.99863445  0.74007336]\n",
      "iteration = 219\tweights = [-3.9996606   0.74266919]\n",
      "iteration = 220\tweights = [-4.00066516  0.7452391 ]\n",
      "iteration = 221\tweights = [-4.00164859  0.74778334]\n",
      "iteration = 222\tweights = [-4.00261133  0.75030217]\n",
      "iteration = 223\tweights = [-4.00355382  0.75279583]\n",
      "iteration = 224\tweights = [-4.00447649  0.75526459]\n",
      "iteration = 225\tweights = [-4.00537974  0.75770869]\n",
      "iteration = 226\tweights = [-4.006264    0.76012837]\n",
      "iteration = 227\tweights = [-4.00712965  0.76252389]\n",
      "iteration = 228\tweights = [-4.00797709  0.76489547]\n",
      "iteration = 229\tweights = [-4.00880671  0.76724337]\n",
      "iteration = 230\tweights = [-4.00961887  0.76956781]\n",
      "iteration = 231\tweights = [-4.01041396  0.77186904]\n",
      "iteration = 232\tweights = [-4.01119231  0.77414728]\n",
      "iteration = 233\tweights = [-4.0119543   0.77640276]\n",
      "iteration = 234\tweights = [-4.01270025  0.77863572]\n",
      "iteration = 235\tweights = [-4.01343051  0.78084637]\n",
      "iteration = 236\tweights = [-4.01414542  0.78303494]\n",
      "iteration = 237\tweights = [-4.01484528  0.78520164]\n",
      "iteration = 238\tweights = [-4.01553043  0.78734671]\n",
      "iteration = 239\tweights = [-4.01620116  0.78947034]\n",
      "iteration = 240\tweights = [-4.01685778  0.79157277]\n",
      "iteration = 241\tweights = [-4.01750059  0.79365419]\n",
      "iteration = 242\tweights = [-4.01812988  0.79571483]\n",
      "iteration = 243\tweights = [-4.01874594  0.79775487]\n",
      "iteration = 244\tweights = [-4.01934903  0.79977455]\n",
      "iteration = 245\tweights = [-4.01993944  0.80177404]\n",
      "iteration = 246\tweights = [-4.02051743  0.80375357]\n",
      "iteration = 247\tweights = [-4.02108326  0.80571332]\n",
      "iteration = 248\tweights = [-4.0216372  0.8076535]\n",
      "iteration = 249\tweights = [-4.02217948  0.80957429]\n",
      "iteration = 250\tweights = [-4.02271035  0.8114759 ]\n",
      "iteration = 251\tweights = [-4.02323006  0.81335851]\n",
      "iteration = 252\tweights = [-4.02373884  0.81522232]\n",
      "iteration = 253\tweights = [-4.02423691  0.81706751]\n",
      "iteration = 254\tweights = [-4.02472451  0.81889427]\n",
      "iteration = 255\tweights = [-4.02520185  0.82070279]\n",
      "iteration = 256\tweights = [-4.02566916  0.82249323]\n",
      "iteration = 257\tweights = [-4.02612663  0.8242658 ]\n",
      "iteration = 258\tweights = [-4.02657449  0.82602065]\n",
      "iteration = 259\tweights = [-4.02701292  0.82775798]\n",
      "iteration = 260\tweights = [-4.02744213  0.82947795]\n",
      "iteration = 261\tweights = [-4.02786232  0.83118074]\n",
      "iteration = 262\tweights = [-4.02827366  0.83286653]\n",
      "iteration = 263\tweights = [-4.02867636  0.83453547]\n",
      "iteration = 264\tweights = [-4.02907059  0.83618774]\n",
      "iteration = 265\tweights = [-4.02945652  0.83782351]\n",
      "iteration = 266\tweights = [-4.02983434  0.83944294]\n",
      "iteration = 267\tweights = [-4.03020421  0.84104619]\n",
      "iteration = 268\tweights = [-4.0305663   0.84263343]\n",
      "iteration = 269\tweights = [-4.03092078  0.84420481]\n",
      "iteration = 270\tweights = [-4.0312678  0.8457605]\n",
      "iteration = 271\tweights = [-4.03160753  0.84730064]\n",
      "iteration = 272\tweights = [-4.0319401  0.8488254]\n",
      "iteration = 273\tweights = [-4.03226569  0.85033493]\n",
      "iteration = 274\tweights = [-4.03258443  0.85182938]\n",
      "iteration = 275\tweights = [-4.03289646  0.85330891]\n",
      "iteration = 276\tweights = [-4.03320193  0.85477365]\n",
      "iteration = 277\tweights = [-4.03350098  0.85622376]\n",
      "iteration = 278\tweights = [-4.03379374  0.85765939]\n",
      "iteration = 279\tweights = [-4.03408034  0.85908067]\n",
      "iteration = 280\tweights = [-4.03436091  0.86048776]\n",
      "iteration = 281\tweights = [-4.03463559  0.8618808 ]\n",
      "iteration = 282\tweights = [-4.03490449  0.86325992]\n",
      "iteration = 283\tweights = [-4.03516773  0.86462526]\n",
      "iteration = 284\tweights = [-4.03542543  0.86597696]\n",
      "iteration = 285\tweights = [-4.03567772  0.86731516]\n",
      "iteration = 286\tweights = [-4.0359247  0.86864  ]\n",
      "iteration = 287\tweights = [-4.03616649  0.8699516 ]\n",
      "iteration = 288\tweights = [-4.0364032   0.87125009]\n",
      "iteration = 289\tweights = [-4.03663492  0.87253562]\n",
      "iteration = 290\tweights = [-4.03686178  0.87380831]\n",
      "iteration = 291\tweights = [-4.03708386  0.87506828]\n",
      "iteration = 292\tweights = [-4.03730127  0.87631566]\n",
      "iteration = 293\tweights = [-4.03751411  0.87755059]\n",
      "iteration = 294\tweights = [-4.03772248  0.87877318]\n",
      "iteration = 295\tweights = [-4.03792646  0.87998356]\n",
      "iteration = 296\tweights = [-4.03812616  0.88118184]\n",
      "iteration = 297\tweights = [-4.03832165  0.88236816]\n",
      "iteration = 298\tweights = [-4.03851304  0.88354263]\n",
      "iteration = 299\tweights = [-4.0387004   0.88470536]\n",
      "iteration = 300\tweights = [-4.03888382  0.88585648]\n",
      "iteration = 301\tweights = [-4.03906339  0.8869961 ]\n",
      "iteration = 302\tweights = [-4.03923917  0.88812434]\n",
      "iteration = 303\tweights = [-4.03941127  0.88924131]\n",
      "iteration = 304\tweights = [-4.03957974  0.89034712]\n",
      "iteration = 305\tweights = [-4.03974467  0.89144188]\n",
      "iteration = 306\tweights = [-4.03990614  0.89252571]\n",
      "iteration = 307\tweights = [-4.04006421  0.89359871]\n",
      "iteration = 308\tweights = [-4.04021895  0.89466099]\n",
      "iteration = 309\tweights = [-4.04037044  0.89571266]\n",
      "iteration = 310\tweights = [-4.04051875  0.89675382]\n",
      "iteration = 311\tweights = [-4.04066394  0.89778459]\n",
      "iteration = 312\tweights = [-4.04080608  0.89880506]\n",
      "iteration = 313\tweights = [-4.04094522  0.89981533]\n",
      "iteration = 314\tweights = [-4.04108145  0.90081551]\n",
      "iteration = 315\tweights = [-4.04121481  0.9018057 ]\n",
      "iteration = 316\tweights = [-4.04134536  0.902786  ]\n"
     ]
    },
    {
     "name": "stdout",
     "output_type": "stream",
     "text": [
      "iteration = 317\tweights = [-4.04147317  0.90375651]\n",
      "iteration = 318\tweights = [-4.04159829  0.90471733]\n",
      "iteration = 319\tweights = [-4.04172079  0.90566854]\n",
      "iteration = 320\tweights = [-4.0418407   0.90661025]\n",
      "iteration = 321\tweights = [-4.0419581   0.90754256]\n",
      "iteration = 322\tweights = [-4.04207303  0.90846555]\n",
      "iteration = 323\tweights = [-4.04218554  0.90937933]\n",
      "iteration = 324\tweights = [-4.04229569  0.91028397]\n",
      "iteration = 325\tweights = [-4.04240352  0.91117958]\n",
      "iteration = 326\tweights = [-4.04250909  0.91206624]\n",
      "iteration = 327\tweights = [-4.04261243  0.91294404]\n",
      "iteration = 328\tweights = [-4.04271361  0.91381308]\n",
      "iteration = 329\tweights = [-4.04281265  0.91467343]\n",
      "iteration = 330\tweights = [-4.04290962  0.91552519]\n",
      "iteration = 331\tweights = [-4.04300454  0.91636845]\n",
      "iteration = 332\tweights = [-4.04309747  0.91720327]\n",
      "iteration = 333\tweights = [-4.04318845  0.91802976]\n",
      "iteration = 334\tweights = [-4.04327752  0.918848  ]\n",
      "iteration = 335\tweights = [-4.04336471  0.91965806]\n",
      "iteration = 336\tweights = [-4.04345007  0.92046002]\n",
      "iteration = 337\tweights = [-4.04353364  0.92125398]\n",
      "iteration = 338\tweights = [-4.04361545  0.92204   ]\n",
      "iteration = 339\tweights = [-4.04369554  0.92281818]\n",
      "iteration = 340\tweights = [-4.04377395  0.92358858]\n",
      "iteration = 341\tweights = [-4.04385071  0.92435128]\n",
      "iteration = 342\tweights = [-4.04392585  0.92510637]\n",
      "iteration = 343\tweights = [-4.04399942  0.92585391]\n",
      "iteration = 344\tweights = [-4.04407144  0.92659398]\n",
      "iteration = 345\tweights = [-4.04414195  0.92732666]\n",
      "iteration = 346\tweights = [-4.04421097  0.92805203]\n",
      "iteration = 347\tweights = [-4.04427854  0.92877014]\n",
      "iteration = 348\tweights = [-4.0443447   0.92948109]\n",
      "\n",
      "Final weights:  [-4.04440946  0.93018493]\n",
      "\n",
      "Time to completion: 37.59 min\n"
     ]
    }
   ],
   "source": [
    "!python ./hw65_driver.py"
   ]
  },
  {
   "cell_type": "markdown",
   "metadata": {},
   "source": [
    "### HW6.5 Sampled 1% and SciKit-Learn\n",
    "\n",
    "Sample 1% of the data in MapReduce and use the sampled dataset to train a (weighted if available in SciKit-Learn) linear regression model locally using SciKit-Learn (http://scikit-learn.org/stable/modules/generated/sklearn.linear_model.LinearRegression.html)\n",
    "Plot the resulting weighted linear regression model versus the original model that you used to generate the data. Comment on your findings."
   ]
  },
  {
   "cell_type": "code",
   "execution_count": 209,
   "metadata": {},
   "outputs": [
    {
     "data": {
      "image/png": "[encoded data removed]",
      "text/plain": [
       "<matplotlib.figure.Figure at 0x7f1f7021ed10>"
      ]
     },
     "metadata": {},
     "output_type": "display_data"
    }
   ],
   "source": [
    "# sample 1% of the data prepped for above\n",
    "import numpy as np\n",
    "\n",
    "ind = np.random.choice(len(x), len(x)/100, replace=False)\n",
    "x_sample = x[ind]\n",
    "y_sample = y[ind]\n",
    "#print np.shape(x_sample)\n",
    "#print np.shape(y_sample)\n",
    "\n",
    "# plot for sanity check\n",
    "pylab.plot(x_sample, y_sample,'*')\n",
    "pylab.show()"
   ]
  },
  {
   "cell_type": "code",
   "execution_count": 210,
   "metadata": {},
   "outputs": [
    {
     "name": "stdout",
     "output_type": "stream",
     "text": [
      "Coefficient:  1.00320568204\n",
      "Intercept:  -3.99939013481\n",
      "Coefficient_w:  1.0029619371\n",
      "Intercept_w:  -3.82592630446\n"
     ]
    }
   ],
   "source": [
    "# use the sampled dataset to train a (weighted if available in SciKit-Learn) linear regression model \n",
    "# locally using SciKit-Learn \n",
    "# (http://scikit-learn.org/stable/modules/generated/sklearn.linear_model.LinearRegression.html)\n",
    "import matplotlib.pyplot as plt\n",
    "import numpy as np\n",
    "from sklearn import datasets, linear_model\n",
    "from sklearn.metrics import mean_squared_error, r2_score\n",
    "\n",
    "# Train the model using the sample\n",
    "x_sample = x_sample.reshape(len(x_sample), 1)\n",
    "y_sample = y_sample.reshape(len(y_sample), 1)\n",
    "#print np.shape(x_sample)\n",
    "#print np.shape(y_sample)\n",
    "\n",
    "# Create linear regression object\n",
    "regr = linear_model.LinearRegression()\n",
    "\n",
    "regr.fit(x_sample, y_sample)\n",
    "print 'Coefficient: ', regr.coef_[0][0]\n",
    "print 'Intercept: ', regr.intercept_[0]\n",
    "\n",
    "# Create another linear regression object\n",
    "regr_w = linear_model.LinearRegression()\n",
    "\n",
    "# Set up the weights for modeling\n",
    "weights = np.asarray(abs(1/x_sample)).reshape(-1)\n",
    "\n",
    "regr_w.fit(x_sample, y_sample, sample_weight = weights)\n",
    "print 'Coefficient_w: ', regr_w.coef_[0][0]\n",
    "print 'Intercept_w: ', regr_w.intercept_[0]"
   ]
  },
  {
   "cell_type": "code",
   "execution_count": 202,
   "metadata": {},
   "outputs": [
    {
     "data": {
      "image/png": "[encoded data removed]",
      "text/plain": [
       "<matplotlib.figure.Figure at 0x7f1f633fafd0>"
      ]
     },
     "metadata": {},
     "output_type": "display_data"
    }
   ],
   "source": [
    "# Plot the resulting weighted linear regression model versus the original model that you used \n",
    "# to generate the data.\n",
    "\n",
    "# Keep with the original range\n",
    "xx = np.linspace(-4, 4, 100)\n",
    "\n",
    "# Set up the three models to plot\n",
    "# learning_rate = 0.05, stop_criteria = 0.000005\n",
    "#final_weights = [-4.04573084, 1.0180672]\n",
    "# learning_rate = 0.005, stop_criteria = 0.0000005\n",
    "final_weights = [-4.04440946  0.93018493]\n",
    "y_line = xx * 1.0 - 4\n",
    "y_graddesc = final_weights[0] + final_weights[1] * xx\n",
    "y_linreg = regr.intercept_[0] + regr.coef_[0][0] * xx\n",
    "y_linreg_w = regr_w.intercept_[0] + regr_w.coef_[0][0] * xx\n",
    "\n",
    "pylab.figure(figsize=(20,20))\n",
    "pylab.title(\"Models\")\n",
    "pylab.xlabel(\"linspace[-4, 4, 100]\")\n",
    "#pylab.ylabel(expr)\n",
    "pylab.plot(xx, y_line, 'k', label = 'line')\n",
    "pylab.plot(xx, y_graddesc, ':r', label = 'graddesc')\n",
    "pylab.plot(xx, y_linreg, ':b', label = 'linreg')\n",
    "pylab.plot(xx, y_linreg_w, ':y', label = 'linreg_w')\n",
    "#pylab.plot(max_index, max_value, 'ro')\n",
    "#pylab.annotate(pt_label, xy = (max_index, max_value), xytext = (0.5, 0))\n",
    "pylab.legend()\n",
    "pylab.show()"
   ]
  },
  {
   "cell_type": "markdown",
   "metadata": {},
   "source": [
    "**Comment on your findings.**\n",
    "\n",
    "The plot above visually shows the line used to generate the 1M dataset. The resulting linear regression models from MRJob gradient descent, Scikit Learn linear regression, and Scikit Learn weighted linear regression are also displayed. The MSE would provide a \"score\" to compare. However, the plot was requested here.\n",
    "\n",
    "With the initial learning rate and stop criteria for gradient descent, the Scikit Learn linear regression visually plotted closest to the original line. The weighted linear regression does not perform as well as the linear regression or gradient descent methods. In tightening the gradient descent variables, this seemed to improve the gradient descent model and may continue to improve with variable modification. A cluster will be needed for further exploration. "
   ]
  },
  {
   "cell_type": "markdown",
   "metadata": {},
   "source": [
    "### HW6.5.1 (OPTIONAL)\n",
    "Using MRJob and in Python, plot the error surface for the weighted linear regression model using a heatmap and contour plot. \n",
    "Also plot the current model in the original domain space.  (Plot them side by side if possible)\n",
    "Plot the path to convergence (during training) for the weighted linear regression model in plot error space and in the original domain space. Make sure to label your plots with iteration numbers, function, model space versus original domain space, etc.\n",
    "Comment on convergence and on the mean squared error using your weighted OLS algorithm on the weighted dataset versus using the weighted OLS algorithm on the uniformly weighted dataset."
   ]
  },
  {
   "cell_type": "code",
   "execution_count": null,
   "metadata": {
    "collapsed": true
   },
   "outputs": [],
   "source": [
    "# START STUDENT SOLUTION HW6.5.1\n",
    "# insert cells as needed\n",
    "\n",
    "\n",
    "# END STUDENT SOLUTION HW6.5.1"
   ]
  },
  {
   "cell_type": "markdown",
   "metadata": {},
   "source": [
    "## HW6.6 Clean up notebook for GMM via EM (OPTIONAL)\n",
    "\n",
    "Using the following notebook as a starting point:\n",
    "\n",
    "http://nbviewer.jupyter.org/urls/dl.dropbox.com/s/0t7985e40fovlkw/EM-GMM-MapReduce%20Design%201.ipynb \n",
    "\n",
    "Improve this notebook as follows:\n",
    "- Add in equations into the notebook (not images of equations) \n",
    "- Number the equations\n",
    "- Make sure the equation notation matches the code and the code and comments refer to the equations numbers\n",
    "- Comment the code\n",
    "- Rename/Reorganize the code to make it more readable\n",
    "- Rerun the examples similar graphics (or possibly better graphics)\n",
    "\n",
    "### Submission Instructions\n",
    "Create a new notebook in your github repo and name it: MIDS-W261-HW-06-GMM-{your student id}.ipynb"
   ]
  },
  {
   "cell_type": "markdown",
   "metadata": {},
   "source": [
    "## HW6.7  Implement Bernoulli Mixture Model via EM (OPTIONAL)\n",
    "Implement the EM clustering algorithm to determine Bernoulli Mixture Model for discrete data in MRJob.\n",
    "\n",
    "As a unit test use the dataset in the following slides:\n",
    "\n",
    "https://www.dropbox.com/s/maoj9jidxj1xf5l/MIDS-Live-Lecture-06-EM-Bernouilli-MM-Systems-Test.pdf?dl=0\n",
    "\n",
    "Cross-check that you get the same cluster assignments and cluster Bernouilli models as presented in the slides after 25 iterations. Dont forget the smoothing.\n",
    "\n",
    "As a full test: use the same dataset from HW 4.5, the Tweet Dataset. \n",
    "Using this data, you will implement a 1000-dimensional EM-based Bernoulli Mixture Model  algorithm in MrJob on the users\n",
    "by their 1000-dimensional word stripes/vectors using K = 4.  Use the same smoothing as in the unit test.\n",
    "\n",
    "Repeat this experiment using your KMeans MRJob implementation fron HW4.\n",
    "Report the rand index score using the class code as ground truth label for both algorithms and comment on your findings.\n",
    "\n",
    "Here is some more information on the Tweet Dataset.\n",
    "\n",
    "Here you will use a different dataset consisting of word-frequency distributions \n",
    "for 1,000 Twitter users. These Twitter users use language in very different ways,\n",
    "and were classified by hand according to the criteria:\n",
    "\n",
    "0: Human, where only basic human-human communication is observed.\n",
    "\n",
    "1: Cyborg, where language is primarily borrowed from other sources\n",
    "(e.g., jobs listings, classifieds postings, advertisements, etc...).\n",
    "\n",
    "2: Robot, where language is formulaically derived from unrelated sources\n",
    "(e.g., weather/seismology, police/fire event logs, etc...).\n",
    "\n",
    "3: Spammer, where language is replicated to high multiplicity\n",
    "(e.g., celebrity obsessions, personal promotion, etc... )\n",
    "\n",
    "Check out the preprints of  recent research,\n",
    "which spawned this dataset:\n",
    "\n",
    "http://arxiv.org/abs/1505.04342\n",
    "http://arxiv.org/abs/1508.01843\n",
    "\n",
    "The main data lie in the accompanying file:\n",
    "\n",
    "[topUsers_Apr-Jul_2014_1000-words.txt](#https://www.dropbox.com/s/6129k2urvbvobkr/topUsers_Apr-Jul_2014_1000-words.txt?dl=0)\n",
    "\n",
    "and are of the form:\n",
    "\n",
    "USERID,CODE,TOTAL,WORD1_COUNT,WORD2_COUNT,...\n",
    ".\n",
    ".\n",
    "\n",
    "where\n",
    "\n",
    "USERID = unique user identifier\n",
    "CODE = 0/1/2/3 class code\n",
    "TOTAL = sum of the word counts\n",
    "\n",
    "Using this data, you will implement a 1000-dimensional K-means algorithm in MrJob on the users\n",
    "by their 1000-dimensional word stripes/vectors using several \n",
    "centroid initializations and values of K."
   ]
  },
  {
   "cell_type": "code",
   "execution_count": null,
   "metadata": {
    "collapsed": true
   },
   "outputs": [],
   "source": [
    "# START STUDENT SOLUTION HW6.7\n",
    "# insert cells as needed\n",
    "\n",
    "\n",
    "# END STUDENT SOLUTION HW6.7"
   ]
  },
  {
   "cell_type": "markdown",
   "metadata": {},
   "source": [
    "## HW6.8 (OPTIONAL) 1 Million songs\n",
    "Predict the year of the song. Ask Jimi"
   ]
  },
  {
   "cell_type": "code",
   "execution_count": null,
   "metadata": {
    "collapsed": true
   },
   "outputs": [],
   "source": []
  },
  {
   "cell_type": "code",
   "execution_count": null,
   "metadata": {
    "collapsed": true
   },
   "outputs": [],
   "source": []
  }
 ],
 "metadata": {
  "kernelspec": {
   "display_name": "Python 2",
   "language": "python",
   "name": "python2"
  },
  "language_info": {
   "codemirror_mode": {
    "name": "ipython",
    "version": 2
   },
   "file_extension": ".py",
   "mimetype": "text/x-python",
   "name": "python",
   "nbconvert_exporter": "python",
   "pygments_lexer": "ipython2",
   "version": "2.7.13"
  },
  "toc": {
   "nav_menu": {
    "height": "397px",
    "width": "252px"
   },
   "number_sections": true,
   "sideBar": true,
   "skip_h1_title": false,
   "toc_cell": true,
   "toc_position": {
    "height": "650px",
    "left": "0px",
    "right": "995.765625px",
    "top": "110px",
    "width": "387px"
   },
   "toc_section_display": "block",
   "toc_window_display": true
  }
 },
 "nbformat": 4,
 "nbformat_minor": 1
}
