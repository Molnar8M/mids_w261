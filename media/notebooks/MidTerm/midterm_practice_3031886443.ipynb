{
 "cells": [
  {
   "cell_type": "code",
   "execution_count": 1,
   "metadata": {},
   "outputs": [
    {
     "name": "stdout",
     "output_type": "stream",
     "text": [
      "Found 2 items\r\n",
      "-rw-r--r--   1 root supergroup        743 2017-10-11 12:10 /user/root/english\r\n",
      "drwxr-xr-x   - root supergroup          0 2017-10-04 11:53 /user/root/tmp\r\n"
     ]
    }
   ],
   "source": [
    "!hadoop fs -ls /user/root"
   ]
  },
  {
   "cell_type": "code",
   "execution_count": 2,
   "metadata": {},
   "outputs": [
    {
     "name": "stdout",
     "output_type": "stream",
     "text": [
      "0.0\n",
      "0.602059991328\n",
      "0.0\n"
     ]
    }
   ],
   "source": [
    "import numpy as np\n",
    "import math\n",
    "from math import log\n",
    "\n",
    "v=[[1,1,1,1,1,1,1],[1,2,1,1,1,2,1],[1,1,1,1,1,1,1]]\n",
    "c=v[0]\n",
    "def kl(p, q):\n",
    "    p = np.asarray(p, dtype=np.float)\n",
    "    q = np.asarray(q, dtype=np.float)\n",
    "    return np.sum(np.where(p != 0,(p-q) * np.log10(p / q), 0))\n",
    "for x in v:\n",
    "    KL=kl(x,c)\n",
    "    print KL"
   ]
  },
  {
   "cell_type": "code",
   "execution_count": 12,
   "metadata": {},
   "outputs": [
    {
     "name": "stdout",
     "output_type": "stream",
     "text": [
      "0.0\n",
      "0.499999950206\n",
      "1.99999990041\n"
     ]
    }
   ],
   "source": [
    "from scipy.stats import norm\n",
    "from scipy import stats\n",
    "\n",
    "t1 = norm(-2.5, 0.1)\n",
    "t2 = norm(-2.5, 0.1)\n",
    "t3 = norm(-2.4, 0.1)\n",
    "t4 = norm(-2.3, 0.1)\n",
    "\n",
    "# domain to evaluate PDF on\n",
    "x = np.linspace(-5, 5, 100)\n",
    "\n",
    "print stats.entropy(t1.pdf(x), t2.pdf(x))\n",
    "print stats.entropy(t1.pdf(x), t3.pdf(x))\n",
    "print stats.entropy(t1.pdf(x), t4.pdf(x))"
   ]
  },
  {
   "cell_type": "code",
   "execution_count": null,
   "metadata": {},
   "outputs": [],
   "source": []
  }
 ],
 "metadata": {
  "kernelspec": {
   "display_name": "Python 2",
   "language": "python",
   "name": "python2"
  },
  "language_info": {
   "codemirror_mode": {
    "name": "ipython",
    "version": 2
   },
   "file_extension": ".py",
   "mimetype": "text/x-python",
   "name": "python",
   "nbconvert_exporter": "python",
   "pygments_lexer": "ipython2",
   "version": "2.7.13"
  },
  "toc": {
   "nav_menu": {},
   "number_sections": true,
   "sideBar": true,
   "skip_h1_title": false,
   "toc_cell": false,
   "toc_position": {},
   "toc_section_display": "block",
   "toc_window_display": false
  }
 },
 "nbformat": 4,
 "nbformat_minor": 2
}
